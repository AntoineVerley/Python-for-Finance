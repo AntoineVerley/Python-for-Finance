{
 "cells": [
  {
   "cell_type": "markdown",
   "id": "4f16930b",
   "metadata": {},
   "source": [
    "# Python - Rappels\n",
    "\n",
    "Python est un langage de programmation dit \"high level\", c'est-à-dire simple à lire et à écrire. Il s'agit d'un langage omniprésent dans tous les secteurs grâce à sa praticité et l'aisance qu'il propose à ses utilisateurs.  \n",
    "Ce notebook se concentre sur les principes du langage, la syntaxe et les outils complémentaires."
   ]
  },
  {
   "cell_type": "markdown",
   "id": "a37f2d0b",
   "metadata": {},
   "source": [
    "## Les variables\n",
    "\n",
    "Une variable représente une donnée et possède un nom."
   ]
  },
  {
   "cell_type": "code",
   "execution_count": 88,
   "id": "b94a8fb7",
   "metadata": {},
   "outputs": [
    {
     "data": {
      "text/plain": [
       "1"
      ]
     },
     "execution_count": 88,
     "metadata": {},
     "output_type": "execute_result"
    }
   ],
   "source": [
    "# Déclarer une variable\n",
    "ma_variable = 1\n",
    "\n",
    "# Appeler une variable\n",
    "ma_variable"
   ]
  },
  {
   "cell_type": "code",
   "execution_count": 89,
   "id": "bbaad24c",
   "metadata": {},
   "outputs": [
    {
     "data": {
      "text/plain": [
       "'Bonjour'"
      ]
     },
     "execution_count": 89,
     "metadata": {},
     "output_type": "execute_result"
    }
   ],
   "source": [
    "# Changer la valeur d'une variable\n",
    "ma_variable = \"Bonjour\"\n",
    "\n",
    "ma_variable"
   ]
  },
  {
   "cell_type": "markdown",
   "id": "f1a34d17",
   "metadata": {},
   "source": [
    "## Les types de données\n",
    "\n",
    "Python possède plusieurs types de données de base :\n",
    "- int (nombres entiers)\n",
    "- float (nombres à virgule)\n",
    "- str (chaînes de caractères)\n",
    "- bool (booléens)"
   ]
  },
  {
   "cell_type": "code",
   "execution_count": 90,
   "id": "429c45f8",
   "metadata": {},
   "outputs": [
    {
     "name": "stdout",
     "output_type": "stream",
     "text": [
      "1  :  <class 'int'>\n",
      "3.14  :  <class 'float'>\n",
      "Bonjour  :  <class 'str'>\n",
      "True  :  <class 'bool'>\n"
     ]
    }
   ],
   "source": [
    "# Un exemple de \"int\"\n",
    "a = 1\n",
    "print(a, \" : \", type(a))\n",
    "\n",
    "# Un exemple de \"float\"\n",
    "a = 3.14\n",
    "print(a, \" : \", type(a))\n",
    "\n",
    "# Un exemple de \"str\"\n",
    "a = \"Bonjour\"\n",
    "print(a, \" : \", type(a))\n",
    "\n",
    "# Un exemple de \"bool\"\n",
    "a = True\n",
    "print(a, \" : \", type(a))"
   ]
  },
  {
   "cell_type": "markdown",
   "id": "19ccc642",
   "metadata": {},
   "source": [
    "## Les structures de données\n",
    "\n",
    "Python propose également plusieurs structures de données :\n",
    "- tuple\n",
    "- list (liste)\n",
    "- dict (dictionnaire)"
   ]
  },
  {
   "cell_type": "code",
   "execution_count": 91,
   "id": "9ba064f3",
   "metadata": {},
   "outputs": [
    {
     "name": "stdout",
     "output_type": "stream",
     "text": [
      "(1, 'Bonjour', True)  :  <class 'tuple'>\n",
      "Le premier élément du tuple est :  1\n",
      "[1, 'Bonjour', True]  :  <class 'list'>\n",
      "Le deuxième élément de la liste est :  Bonjour\n",
      "{'int': 1, 'str': 'Bonjour', 'bool': True}  :  <class 'dict'>\n",
      "Le troisième élément du dictionnaire est :  True\n"
     ]
    }
   ],
   "source": [
    "# Un exemple de \"tuple\"\n",
    "a = (1, \"Bonjour\", True)\n",
    "print(a, \" : \", type(a))\n",
    "print(\"Le premier élément du tuple est : \", a[0])\n",
    "\n",
    "# Un exemple de \"list\"\n",
    "a = [1, \"Bonjour\", True]\n",
    "print(a, \" : \", type(a))\n",
    "print(\"Le deuxième élément de la liste est : \", a[1])\n",
    "\n",
    "# Un exemple de \"dict\"\n",
    "a = {\n",
    "    \"int\": 1,\n",
    "    \"str\": \"Bonjour\",\n",
    "    \"bool\": True\n",
    "}\n",
    "print(a, \" : \", type(a))\n",
    "print(\"Le troisième élément du dictionnaire est : \", a[\"bool\"])"
   ]
  },
  {
   "cell_type": "markdown",
   "id": "d630dd98",
   "metadata": {},
   "source": [
    "## Les conditions\n",
    "\n",
    "Les conditions sont représentés par des booléens (True ou False). Ces derniers peuvent être utilisés dans les conditions \"if\" de Python pour exécuter ou non des lignes de code."
   ]
  },
  {
   "cell_type": "code",
   "execution_count": 92,
   "id": "d27d7484",
   "metadata": {},
   "outputs": [
    {
     "name": "stdout",
     "output_type": "stream",
     "text": [
      "Est-ce que 1 est égal à 1?  True\n",
      "2 est égal à 2!\n",
      "Adulte\n",
      "On ne mange rien ce soir!\n"
     ]
    }
   ],
   "source": [
    "# Exemple d'une comparaison, qui utilise toujours un double signe égal\n",
    "mon_booleen = 1 == 1\n",
    "print(\"Est-ce que 1 est égal à 1? \", mon_booleen)\n",
    "\n",
    "# Exemple d'un \"if\"\n",
    "if 2 == 2:\n",
    "    print(\"2 est égal à 2!\")\n",
    "\n",
    "# Exemple d'un \"else\"\n",
    "age = 20\n",
    "\n",
    "if age < 18:\n",
    "    print(\"Enfant\")\n",
    "else:\n",
    "    print(\"Adulte\")\n",
    "    \n",
    "# Exemple d'un \"elif\"\n",
    "choix = \"sushi\"\n",
    "\n",
    "if choix == \"burger\":\n",
    "    print(\"Ce soir, c'est burger!\")\n",
    "elif choix == \"bushi\":\n",
    "    print(\"Ce soir, c'est sushi!\")\n",
    "else:\n",
    "    print(\"On ne mange rien ce soir!\")"
   ]
  },
  {
   "cell_type": "markdown",
   "id": "e53a812c",
   "metadata": {},
   "source": [
    "## Les différents tests possibles\n",
    "\n",
    "Python propose énormément de tests sur les données pour satisfaire ou non des expressions de conditions."
   ]
  },
  {
   "cell_type": "code",
   "execution_count": 93,
   "id": "bc68b41e",
   "metadata": {},
   "outputs": [
    {
     "name": "stdout",
     "output_type": "stream",
     "text": [
      "Est-ce que 1 est égal à 1?  False\n",
      "Cuire le poisson au four\n",
      "Le four peut cuire quelque chose!\n",
      "On n'achète pas!\n"
     ]
    }
   ],
   "source": [
    "# Exemple de \"not\"\n",
    "print(\"Est-ce que 1 est égal à 1? \", not 1 == 1)\n",
    "\n",
    "# Exemple de \"and\"\n",
    "le_four_est_chaud = True\n",
    "poulet = False\n",
    "poisson = True\n",
    "\n",
    "if le_four_est_chaud and poulet:\n",
    "    print(\"Cuire le poulet au four\")\n",
    "elif le_four_est_chaud and poisson:\n",
    "    print(\"Cuire le poisson au four\")\n",
    "else:\n",
    "    print(\"Soit le four n'est pas chaud, soit on a rien à cuire!\")\n",
    "    \n",
    "# Exemple de \"or\"\n",
    "if le_four_est_chaud and (poulet or poisson):\n",
    "    print(\"Le four peut cuire quelque chose!\")\n",
    "else:\n",
    "    print(\"Soit le four n'est pas chaud, soit on a rien à cuire!\")\n",
    "    \n",
    "# Exemple de \"in\"\n",
    "liste_de_courses = [\"Pain\", \"Fruits\", \"Soda\"]\n",
    "produit = \"Chips\"\n",
    "\n",
    "if produit in liste_de_courses:\n",
    "    print(\"On achète!\")\n",
    "else:\n",
    "    print(\"On n'achète pas!\")"
   ]
  },
  {
   "cell_type": "markdown",
   "id": "ba8d8f00",
   "metadata": {},
   "source": [
    "## La déclaration de variable conditionnelle\n",
    "\n",
    "Il est possible de changer la donnée déclarée dans une variable de façon plus rapide. Autrement dit, il s'agit d'une syntaxe if/elif/else simplifiée."
   ]
  },
  {
   "cell_type": "code",
   "execution_count": 111,
   "id": "4b7336a6",
   "metadata": {},
   "outputs": [
    {
     "name": "stdout",
     "output_type": "stream",
     "text": [
      "enfant\n",
      "enfant\n",
      "adulte\n"
     ]
    }
   ],
   "source": [
    "# Un cas traditionnel\n",
    "age = 16\n",
    "statut = None\n",
    "# None indique que rien n'est stocké dans la variable.\n",
    "\n",
    "if age < 18:\n",
    "    statut = \"enfant\"\n",
    "else:\n",
    "    statut = \"adulte\"\n",
    "    \n",
    "print(statut)\n",
    "\n",
    "\n",
    "# Une déclaration conditionnelle\n",
    "statut = \"enfant\" if age < 18 else \"adulte\"\n",
    "print(statut)\n",
    "\n",
    "# On peut également sauter le nommage\n",
    "age = 22\n",
    "print(\"enfant\" if age < 18 else \"adulte\")"
   ]
  },
  {
   "cell_type": "markdown",
   "id": "5f1c68dd",
   "metadata": {},
   "source": [
    "## Les boucles\n",
    "\n",
    "Afin de répéter une tâche plusieurs fois, ou l'appliquer à plusieurs éléments, on peut faire appel à des boucles :\n",
    "- Les boucles \"for\" respectent un domaine spécifié\n",
    "- les boucles \"while\" continuent jusqu'à ce que la condition ne soit plus validée"
   ]
  },
  {
   "cell_type": "code",
   "execution_count": 95,
   "id": "588ede3c",
   "metadata": {},
   "outputs": [
    {
     "name": "stdout",
     "output_type": "stream",
     "text": [
      "1\n",
      "2\n",
      "3\n",
      "a\n",
      "b\n",
      "c\n"
     ]
    }
   ],
   "source": [
    "# Exemple de \"for\"\n",
    "for a in range(1, 4):\n",
    "    print(a)\n",
    "\n",
    "# Exemple d'itération avec \"for\"\n",
    "ma_liste = [\"a\",\"b\",\"c\"]\n",
    "\n",
    "for lettre in ma_liste:\n",
    "    print(lettre)"
   ]
  },
  {
   "cell_type": "code",
   "execution_count": 96,
   "id": "c211024b",
   "metadata": {},
   "outputs": [
    {
     "name": "stdout",
     "output_type": "stream",
     "text": [
      "1\n",
      "2\n",
      "3\n",
      "4\n",
      "5\n",
      "6\n"
     ]
    }
   ],
   "source": [
    "# Exemple de \"while\"\n",
    "nombre = 1\n",
    "\n",
    "while nombre <= 3:\n",
    "    print(nombre)\n",
    "    nombre += 1\n",
    "    \n",
    "while nombre in [4, 5, 6]:\n",
    "    print(nombre)\n",
    "    nombre += 1"
   ]
  },
  {
   "cell_type": "markdown",
   "id": "e877d800",
   "metadata": {},
   "source": [
    "## break, continue et else\n",
    "\n",
    "Les boucles possèdent deux mots-clés très pratiques : continue et break.  \n",
    "continue sert à passer à la prochaine itération directement sans exécuter le reste du code.  \n",
    "break sert à sortir de la boucle for complètement.  \n",
    "\n",
    "Un dernier mot clé est else : il permet de lancer du code à la fin des boucles si celles-ci ne sont pas interrompues par break."
   ]
  },
  {
   "cell_type": "code",
   "execution_count": 110,
   "id": "168d7178",
   "metadata": {
    "scrolled": true
   },
   "outputs": [
    {
     "name": "stdout",
     "output_type": "stream",
     "text": [
      "Boucle for\n",
      "[1, 4, 9, 16, 25, 36, 49, 64, 81, 100]\n",
      "Boucle while\n",
      "[1, 4, 9, 16, 25, 36, 49, 64, 81, 100]\n"
     ]
    }
   ],
   "source": [
    "# Comment afficher les 10 premiers carrés parfaits d'une liste de nombres de 0 à 150?\n",
    "import math\n",
    "ma_liste = [i for i in range(150)]\n",
    "\n",
    "# Boucle for\n",
    "print(\"Boucle for\")\n",
    "compteur = 1\n",
    "liste_resultat = []\n",
    "for nombre in ma_liste:\n",
    "    # Break arrête la boucle entière si le compteur arrive à 10: il ne sert à rien de continuer à chercher.\n",
    "    if compteur > 10:\n",
    "        break\n",
    "    # Continue permet de passer au prochain nombre dans la liste pour éviter la division par 0 qui suit.\n",
    "    # On peut également passer le deuxième if en elif et ne pas utiliser continue.\n",
    "    # Il faut alors ajouter le mot clé \"pass\" qui signifie \"ne rien faire\".\n",
    "    if nombre == 0:\n",
    "        continue\n",
    "    if nombre % math.sqrt(nombre) == 0:\n",
    "        liste_resultat.append(nombre)\n",
    "        compteur += 1\n",
    "print(liste_resultat)\n",
    "\n",
    "# Boucle while\n",
    "print(\"Boucle while\")\n",
    "iteration = 0\n",
    "compteur = 1\n",
    "liste_resultat = []\n",
    "while iteration < len(ma_liste):\n",
    "    if compteur > 10:\n",
    "        break\n",
    "    if ma_liste[iteration] == 0:\n",
    "        iteration += 1\n",
    "        continue\n",
    "    if ma_liste[iteration] % math.sqrt(ma_liste[iteration]) == 0:\n",
    "        liste_resultat.append(ma_liste[iteration])\n",
    "        compteur += 1\n",
    "    iteration += 1\n",
    "print(liste_resultat)"
   ]
  },
  {
   "cell_type": "markdown",
   "id": "5615cb64",
   "metadata": {},
   "source": [
    "## Les compréhensions\n",
    "\n",
    "Python offre une syntaxe très particulière de génération de listes et de dictionnaires qu'on appelle compréhension, qui fait appel aux boucles for et aux conditions if. Des exemples seront plus clairs que du texte.  \n",
    "Théoriquement toutes les boucles sont transposables en compréhensions mais il faut privilégier la lisibilité du code!"
   ]
  },
  {
   "cell_type": "code",
   "execution_count": 101,
   "id": "48eec0e4",
   "metadata": {},
   "outputs": [
    {
     "name": "stdout",
     "output_type": "stream",
     "text": [
      "[1, 2, 3, 4, 5]\n",
      "[1, 2, 3, 4, 5]\n",
      "[4, 16]\n",
      "9\n",
      "[1, 4, 9, 16, 25, 36, 49, 64]\n"
     ]
    }
   ],
   "source": [
    "# Une liste traditionnelle\n",
    "ma_liste = [1,2,3,4,5]\n",
    "print(ma_liste)\n",
    "\n",
    "# Une liste générée par une compréhension\n",
    "ma_liste = [nombre for nombre in range(1,6)]\n",
    "print(ma_liste)\n",
    "\n",
    "# Une liste générée à partir d'une autre liste, avec une syntaxe if simplifiée\n",
    "liste_des_carres_pairs = [nombre * nombre for nombre in ma_liste if nombre * nombre % 2 == 0]\n",
    "print(liste_des_carres_pairs)\n",
    "\n",
    "# Somme des nombres impairs de la liste\n",
    "print( sum([nombre for nombre in ma_liste if nombre % 2 != 0]) )\n",
    "\n",
    "# L'exercice précédent avec une compréhension for\n",
    "import math\n",
    "ma_liste = [i for i in range(150)]\n",
    "print([nombre for nombre in ma_liste if nombre != 0 and nombre % math.sqrt(nombre) == 0][:10])\n",
    "# Il n'existe malheureusement pas de solutions pour intégrer un compteur d'incrémentation directement dans ce cas de figure\n",
    "# sans passer par des bibliothèques externes ou complexifier la tâche."
   ]
  },
  {
   "cell_type": "markdown",
   "id": "082a9383",
   "metadata": {},
   "source": [
    "## Les fonctions\n",
    "\n",
    "Une fonction en Python sert à enregistrer un morceau de code que l'on peut appeler et exécuter avec un nom prédéfini.  \n",
    "Une fonction peut prendre des données en entrée et retourner des données en sortie, mais c'est optionnel.\n",
    "\n",
    "Le plus souvent, une fonction est là pour ne pas répéter du code."
   ]
  },
  {
   "cell_type": "code",
   "execution_count": 102,
   "id": "576f8bc8",
   "metadata": {},
   "outputs": [
    {
     "data": {
      "text/plain": [
       "14"
      ]
     },
     "execution_count": 102,
     "metadata": {},
     "output_type": "execute_result"
    }
   ],
   "source": [
    "# Exemple d'une fonction d'addition\n",
    "def addition(x, y):\n",
    "    somme = x + y\n",
    "    return somme\n",
    "\n",
    "# Exemple d'appel d'une fonction\n",
    "addition(6, 8)"
   ]
  },
  {
   "cell_type": "code",
   "execution_count": 103,
   "id": "6d3fadf9",
   "metadata": {},
   "outputs": [
    {
     "name": "stdout",
     "output_type": "stream",
     "text": [
      "Quotient : 10   Reste : 5\n"
     ]
    }
   ],
   "source": [
    "# Exemple de plusieurs sorties\n",
    "def division_euclidienne(x, y):\n",
    "    quotient = x//y\n",
    "    reste = x%y\n",
    "    return quotient, reste\n",
    "\n",
    "q, r = division_euclidienne(105, 10)\n",
    "print(\"Quotient :\", q, \"  Reste :\", r)"
   ]
  },
  {
   "cell_type": "code",
   "execution_count": 104,
   "id": "5a1439ab",
   "metadata": {},
   "outputs": [
    {
     "name": "stdout",
     "output_type": "stream",
     "text": [
      "Nous sommes le  2023-01-04 15:42:08.667453\n"
     ]
    }
   ],
   "source": [
    "# Exemple d'une fonction qui ne prend pas d'entrée\n",
    "from datetime import datetime\n",
    "def jour():\n",
    "    return datetime.today()\n",
    "\n",
    "print(\"Nous sommes le \", jour())"
   ]
  },
  {
   "cell_type": "markdown",
   "id": "357f7a99",
   "metadata": {},
   "source": [
    "## Les fonctions de Python\n",
    "\n",
    "Python propose des fonctions optimisées et qui sont déjà disponibles dans le langage de base.  \n",
    "Il est toujours recommandé d'étudier en profondeur la documentation de Python pour connaître tout ce que le langage propose."
   ]
  },
  {
   "cell_type": "code",
   "execution_count": 105,
   "id": "087122c5",
   "metadata": {},
   "outputs": [
    {
     "name": "stdout",
     "output_type": "stream",
     "text": [
      "Bonjour\n",
      "Bonjour 123 True\n",
      "6\n",
      "22\n",
      "a1b2c3\n"
     ]
    }
   ],
   "source": [
    "# print est une fonction d'affichage qui prend en entrée un ou plusieurs éléments.\n",
    "print(\"Bonjour\")\n",
    "print(\"Bonjour\", 123, True)\n",
    "\n",
    "# sum est une fonction qui fait la somme des éléments d'une structure.\n",
    "print( sum((1,2,3)) ) # on fait la somme des éléments d'un tuple\n",
    "print( sum([4,5,6,7]) ) # on fait la somme des éléments d'une liste\n",
    "\n",
    "# str est une fonction qui convertit l'entrée en chaîne de caractères.\n",
    "print( \"a\" + str(1) + \"b\" + str(2) + \"c\" + str(3) ) # La concaténation de string ne serait pas possible sans la conversion"
   ]
  },
  {
   "cell_type": "markdown",
   "id": "f372fc31",
   "metadata": {},
   "source": [
    "## Les bibliothèques\n",
    "\n",
    "Les bibliothèques de Python, ou encore librairies, sont des bouts de code déjà écrits qui répondent à des besoins spécifiques.  \n",
    "La popularité du langage a donné naissance à beaucoup de bibliothèques différentes que ce soit pour de l'analyse financière, du traitement de données, du machine learning et bien d'autres applications. Il faut cependant se fier aux bibliothèques populaires pour ne pas importer du code malicieux.  \n",
    "Pour bien se servir des capacités d'une bibliothèque, il faut étudier sa documentation."
   ]
  },
  {
   "cell_type": "code",
   "execution_count": 106,
   "id": "172b98a0",
   "metadata": {},
   "outputs": [
    {
     "data": {
      "text/plain": [
       "3.141592653589793"
      ]
     },
     "execution_count": 106,
     "metadata": {},
     "output_type": "execute_result"
    }
   ],
   "source": [
    "import math\n",
    "# math est la bibliothèque contenant les outils mathématiques de Python.\n",
    "# On va essayer d'appeler la valeur de pi grâce à cette bibliothèque.\n",
    "math.pi\n",
    "# Cette syntaxe veut dire \"faire appel à la variable pi qui est gardée dans la bibliothèque math\""
   ]
  },
  {
   "cell_type": "code",
   "execution_count": 107,
   "id": "6a1cc532",
   "metadata": {},
   "outputs": [
    {
     "data": {
      "text/plain": [
       "array(5)"
      ]
     },
     "execution_count": 107,
     "metadata": {},
     "output_type": "execute_result"
    }
   ],
   "source": [
    "import numpy as np\n",
    "# la bibliothèque importée est renommée pour l'appeler plus rapidement.\n",
    "np.array(5,int)\n",
    "# On fait appel à la fonction array qui se trouve dans la bibliothèque."
   ]
  },
  {
   "cell_type": "markdown",
   "id": "9bb9191e",
   "metadata": {},
   "source": [
    "## Les classes et les objets\n",
    "\n",
    "Une classe en Python représente la description d'une entité. Cela peut être une tasse, un billet ou encore des performances de portefeuille. Elle peut contenir des variables qui lui sont associées, qu'on appelle attributs, ou encore des fonctions qui lui sont associées, qu'on appelle méthodes.  \n",
    "Un objet est une instance d'une classe. Une fois qu'il existe, il représente une entité spécifique : une tasse de thé blanche avec un grand poignet par exemple."
   ]
  },
  {
   "cell_type": "code",
   "execution_count": 108,
   "id": "2ae6e8ea",
   "metadata": {},
   "outputs": [
    {
     "name": "stdout",
     "output_type": "stream",
     "text": [
      "False\n",
      "Ma tasse est  rouge\n",
      "Ma plus grande tasse est  rouge\n",
      "Ma tasse est  orange\n",
      "Ma plus grande tasse est  rouge\n"
     ]
    }
   ],
   "source": [
    "# Exemple d'une classe Tasse\n",
    "class Tasse:\n",
    "    # Nous sommes à l'intérieur de la classe.\n",
    "    # Cette fonction a un nom particulier et sert spécifiquement à créer un objet qui représenterait une Tasse.\n",
    "    def __init__(self, couleur):\n",
    "        self.couleur = couleur\n",
    "    # Le mot self est nécessaire pour indiquer que cette fonction est appliquée sur la classe Tasse.\n",
    "    # En effet, on initialise bien un objet de type Tasse.\n",
    "    # self.couleur fait référence à l'attribut couleur qui est associé à la Tasse\n",
    "    # alors que couleur est le paramètre donné en entrée.\n",
    "\n",
    "# Exemple de création d'un objet de type Tasse\n",
    "ma_tasse = Tasse(\"rouge\")\n",
    "\n",
    "# Puisqu'un object est une instance de Tasse, on peut en avoir plusieurs et ils seront indépendants!\n",
    "ma_plus_grande_tasse = Tasse(\"rouge\")\n",
    "\n",
    "# Vérifions si les deux objets sont les mêmes\n",
    "print(ma_tasse is ma_plus_grande_tasse)\n",
    "\n",
    "# Faisons appel aux attributs des tasses\n",
    "print(\"Ma tasse est \", ma_tasse.couleur)\n",
    "print(\"Ma plus grande tasse est \", ma_plus_grande_tasse.couleur)\n",
    "\n",
    "# Changeons la couleur d'une tasse\n",
    "ma_tasse.couleur = \"orange\"\n",
    "print(\"Ma tasse est \", ma_tasse.couleur)\n",
    "print(\"Ma plus grande tasse est \", ma_plus_grande_tasse.couleur)"
   ]
  },
  {
   "cell_type": "code",
   "execution_count": 109,
   "id": "c0b4a37a",
   "metadata": {},
   "outputs": [
    {
     "name": "stdout",
     "output_type": "stream",
     "text": [
      "L'animal vole\n",
      "L'animal nage\n",
      "L'animal se déplace\n",
      "L'animal meurt\n",
      "L'animal est déjà mort!\n"
     ]
    }
   ],
   "source": [
    "# Exemple d'un animal\n",
    "class Animal:\n",
    "    def __init__(self, type):\n",
    "        self.type = type\n",
    "        self.vivant = True\n",
    "        \n",
    "    def deplacer(self):\n",
    "        if self.type == \"oiseau\":\n",
    "            print(\"L'animal vole\")\n",
    "        elif self.type == \"poisson\":\n",
    "            print(\"L'animal nage\")\n",
    "        else:\n",
    "            print(\"L'animal se déplace\")\n",
    "    \n",
    "    def mourir(self):\n",
    "        if self.vivant:\n",
    "            self.vivant = False\n",
    "            print(\"L'animal meurt\")\n",
    "        else:\n",
    "            print(\"L'animal est déjà mort!\")\n",
    "            \n",
    "oiseau = Animal(\"oiseau\")\n",
    "poisson = Animal(\"poisson\")\n",
    "ver_de_terre = Animal(\"ver de terre\")\n",
    "\n",
    "oiseau.deplacer()\n",
    "poisson.deplacer()\n",
    "ver_de_terre.deplacer()\n",
    "\n",
    "oiseau.mourir()\n",
    "oiseau.mourir()"
   ]
  }
 ],
 "metadata": {
  "kernelspec": {
   "display_name": "Python 3 (ipykernel)",
   "language": "python",
   "name": "python3"
  },
  "language_info": {
   "codemirror_mode": {
    "name": "ipython",
    "version": 3
   },
   "file_extension": ".py",
   "mimetype": "text/x-python",
   "name": "python",
   "nbconvert_exporter": "python",
   "pygments_lexer": "ipython3",
   "version": "3.9.13"
  }
 },
 "nbformat": 4,
 "nbformat_minor": 5
}
